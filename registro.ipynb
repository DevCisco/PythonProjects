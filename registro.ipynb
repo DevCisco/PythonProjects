{
 "cells": [
  {
   "cell_type": "code",
   "execution_count": 19,
   "metadata": {},
   "outputs": [],
   "source": [
    "z=0\n",
    "count=0\n",
    "x=int(input(\"Inserire il numero di voti da mettere nel registro: \"))\n",
    "with open('voti.txt',mode='w') as votes:\n",
    "    for i in range(0,x):\n",
    "        if i==(x-1):\n",
    "            votes.write(input(\"Inserire il voto: \"))\n",
    "        else:\n",
    "            votes.write(input(\"Inserire il voto: \"))\n",
    "            votes.write('\\n')"
   ]
  },
  {
   "cell_type": "code",
   "execution_count": 20,
   "metadata": {},
   "outputs": [
    {
     "name": "stdout",
     "output_type": "stream",
     "text": [
      "Voto: ['30']\n",
      "Voto: ['30']\n",
      "Voto: ['30']\n",
      "Il totale dei voti è: 90\n",
      "I voti sono in tutto: 3\n",
      "La media è: 30.0\n"
     ]
    }
   ],
   "source": [
    "with open('voti.txt',mode='r') as votes:\n",
    "    for record in votes:\n",
    "        voto=record.split()\n",
    "        z+=int(record)\n",
    "        print(\"Voto: \"f'{voto}')\n",
    "        count=count+1\n",
    "    print(\"Il totale dei voti è: \"f'{z}')\n",
    "    print(\"I voti sono in tutto: \"f'{count}')\n",
    "    y=z/count\n",
    "    print(\"La media è: \"f'{y}')"
   ]
  }
 ],
 "metadata": {
  "kernelspec": {
   "display_name": "Python 3",
   "language": "python",
   "name": "python3"
  },
  "language_info": {
   "codemirror_mode": {
    "name": "ipython",
    "version": 3
   },
   "file_extension": ".py",
   "mimetype": "text/x-python",
   "name": "python",
   "nbconvert_exporter": "python",
   "pygments_lexer": "ipython3",
   "version": "3.9.13"
  },
  "orig_nbformat": 4
 },
 "nbformat": 4,
 "nbformat_minor": 2
}
