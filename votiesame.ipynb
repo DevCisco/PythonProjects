{
 "cells": [
  {
   "cell_type": "code",
   "execution_count": 6,
   "metadata": {},
   "outputs": [],
   "source": [
    "import csv\n",
    "with open('accounts.csv',mode='w',newline='') as accounts:\n",
    "    writer=csv.writer(accounts)\n",
    "    writer.writerow(['Francesco','Cisco',30,28,20])\n",
    "    writer.writerow(['Abraham','Lincoln',20,18,23])\n",
    "    writer.writerow(['Ulysses','Grant',25,19,26])\n",
    "    writer.writerow(['George','Washington',27,24,21])"
   ]
  },
  {
   "cell_type": "code",
   "execution_count": 8,
   "metadata": {},
   "outputs": [
    {
     "name": "stdout",
     "output_type": "stream",
     "text": [
      "Nome      Cognome      Esame 1   Esame 2   Esame 3\n",
      "Francesco Cisco             30        28        20\n",
      "Abraham   Lincoln           20        18        23\n",
      "Ulysses   Grant             25        19        26\n",
      "George    Washington        27        24        21\n"
     ]
    }
   ],
   "source": [
    "import csv\n",
    "with open('accounts.csv','r',newline='') as accounts:\n",
    "    print(f'{\"Nome\":<10}{\"Cognome\":<10}{\"Esame 1\":>10}{\"Esame 2\":>10}{\"Esame 3\":>10}')\n",
    "    reader=csv.reader(accounts)\n",
    "    for record in reader:\n",
    "        nome,cognome,esame1,esame2,esame3=record\n",
    "        print(f'{nome:<10}{cognome:<10}{esame1:>10}{esame2:>10}{esame3:>10}')"
   ]
  }
 ],
 "metadata": {
  "kernelspec": {
   "display_name": "Python 3",
   "language": "python",
   "name": "python3"
  },
  "language_info": {
   "codemirror_mode": {
    "name": "ipython",
    "version": 3
   },
   "file_extension": ".py",
   "mimetype": "text/x-python",
   "name": "python",
   "nbconvert_exporter": "python",
   "pygments_lexer": "ipython3",
   "version": "3.9.13"
  },
  "orig_nbformat": 4
 },
 "nbformat": 4,
 "nbformat_minor": 2
}
